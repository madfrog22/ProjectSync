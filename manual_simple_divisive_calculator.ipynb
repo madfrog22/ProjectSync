{
  "cells": [
    {
      "cell_type": "markdown",
      "metadata": {
        "id": "view-in-github",
        "colab_type": "text"
      },
      "source": [
        "<a href=\"https://colab.research.google.com/github/madfrog22/ProjectSync/blob/main/manual_simple_divisive_calculator.ipynb\" target=\"_parent\"><img src=\"https://colab.research.google.com/assets/colab-badge.svg\" alt=\"Open In Colab\"/></a>"
      ]
    },
    {
      "cell_type": "code",
      "source": [
        "num = 7\n",
        "bagi = 3\n",
        "div_list = []\n",
        "mod_list = []\n",
        "decimal_list = []\n",
        "phase_list = []"
      ],
      "metadata": {
        "id": "WXIRJEnpmOy5"
      },
      "execution_count": 6,
      "outputs": []
    },
    {
      "cell_type": "code",
      "source": [
        "7/3"
      ],
      "metadata": {
        "id": "YRgYnUaCoUqw",
        "outputId": "c794cb55-7233-44d1-d5ae-6a547e099f65",
        "colab": {
          "base_uri": "https://localhost:8080/"
        }
      },
      "execution_count": 11,
      "outputs": [
        {
          "output_type": "execute_result",
          "data": {
            "text/plain": [
              "2.3333333333333335"
            ]
          },
          "metadata": {},
          "execution_count": 11
        }
      ]
    },
    {
      "cell_type": "code",
      "source": [
        "decimal = False\n",
        "for i in range (0,8):\n",
        "  phase_list = i\n",
        "  decimal_list.append(decimal)\n",
        "  div_curr = num // bagi\n",
        "  mod_curr = num % bagi \n",
        "  div_list.append(div_curr)\n",
        "  mod_list.append(mod_curr)\n",
        "  num = num - (div_curr * bagi)\n",
        "  if (num < bagi):\n",
        "    num = num * 10\n",
        "    decimal = True\n",
        "  i=+1"
      ],
      "metadata": {
        "id": "zUrk9eQamPA3"
      },
      "execution_count": 7,
      "outputs": []
    },
    {
      "cell_type": "code",
      "source": [
        "div_list"
      ],
      "metadata": {
        "id": "UjaCDUYwqcZj",
        "outputId": "59a27e74-8c48-4e16-d993-c45a9adf9c1d",
        "colab": {
          "base_uri": "https://localhost:8080/"
        }
      },
      "execution_count": 8,
      "outputs": [
        {
          "output_type": "execute_result",
          "data": {
            "text/plain": [
              "[2, 3, 3, 3, 3, 3, 3, 3]"
            ]
          },
          "metadata": {},
          "execution_count": 8
        }
      ]
    },
    {
      "cell_type": "code",
      "source": [
        "mod_list"
      ],
      "metadata": {
        "id": "Ds2xbo5QrmsB",
        "outputId": "f27c1182-702c-4dc7-d5b2-baa2eb62b11d",
        "colab": {
          "base_uri": "https://localhost:8080/"
        }
      },
      "execution_count": 9,
      "outputs": [
        {
          "output_type": "execute_result",
          "data": {
            "text/plain": [
              "[1, 1, 1, 1, 1, 1, 1, 1]"
            ]
          },
          "metadata": {},
          "execution_count": 9
        }
      ]
    },
    {
      "cell_type": "code",
      "source": [
        "decimal_list"
      ],
      "metadata": {
        "id": "3I9FpxkSsm6e",
        "outputId": "b932dd60-d369-405b-e2a6-1b3611e8e977",
        "colab": {
          "base_uri": "https://localhost:8080/"
        }
      },
      "execution_count": 10,
      "outputs": [
        {
          "output_type": "execute_result",
          "data": {
            "text/plain": [
              "[False, True, True, True, True, True, True, True]"
            ]
          },
          "metadata": {},
          "execution_count": 10
        }
      ]
    },
    {
      "cell_type": "code",
      "source": [
        ""
      ],
      "metadata": {
        "id": "F-MaD4EysnEG"
      },
      "execution_count": null,
      "outputs": []
    }
  ],
  "metadata": {
    "colab": {
      "collapsed_sections": [],
      "name": "manual simple divisive calculator",
      "toc_visible": true,
      "provenance": [],
      "include_colab_link": true
    },
    "kernelspec": {
      "display_name": "Python 3",
      "name": "python3"
    }
  },
  "nbformat": 4,
  "nbformat_minor": 0
}